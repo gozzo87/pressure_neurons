{
  "nbformat": 4,
  "nbformat_minor": 0,
  "metadata": {
    "colab": {
      "name": "RBF demo",
      "provenance": [],
      "collapsed_sections": [],
      "authorship_tag": "ABX9TyOOR28YLeUzXOiil/V43A8F",
      "include_colab_link": true
    },
    "kernelspec": {
      "name": "python3",
      "display_name": "Python 3"
    }
  },
  "cells": [
    {
      "cell_type": "markdown",
      "metadata": {
        "id": "view-in-github",
        "colab_type": "text"
      },
      "source": [
        "<a href=\"https://colab.research.google.com/github/gozzo87/pressure_neurons/blob/master/RBF_demo.ipynb\" target=\"_parent\"><img src=\"https://colab.research.google.com/assets/colab-badge.svg\" alt=\"Open In Colab\"/></a>"
      ]
    },
    {
      "cell_type": "code",
      "metadata": {
        "id": "S5dxL_dqqLQT",
        "colab_type": "code",
        "colab": {
          "base_uri": "https://localhost:8080/",
          "height": 119
        },
        "outputId": "a4afc706-6ce0-481b-8ee7-36a328cb02a7"
      },
      "source": [
        "%rm -R pressure_neurons/\n",
        "\n",
        "GIT_USERNAME = \"gozzo87\"\n",
        "GIT_TOKEN = \"c588ac741a465c1f6cd30ad1bea6352b9b969701\"\n",
        "GIT_REPOSITORY = \"pressure_neurons\"\n",
        "!git clone \"https://{GIT_TOKEN}@github.com/{GIT_USERNAME}/{GIT_REPOSITORY}.git\""
      ],
      "execution_count": 59,
      "outputs": [
        {
          "output_type": "stream",
          "text": [
            "Cloning into 'pressure_neurons'...\n",
            "remote: Enumerating objects: 38, done.\u001b[K\n",
            "remote: Counting objects:   2% (1/38)\u001b[K\rremote: Counting objects:   5% (2/38)\u001b[K\rremote: Counting objects:   7% (3/38)\u001b[K\rremote: Counting objects:  10% (4/38)\u001b[K\rremote: Counting objects:  13% (5/38)\u001b[K\rremote: Counting objects:  15% (6/38)\u001b[K\rremote: Counting objects:  18% (7/38)\u001b[K\rremote: Counting objects:  21% (8/38)\u001b[K\rremote: Counting objects:  23% (9/38)\u001b[K\rremote: Counting objects:  26% (10/38)\u001b[K\rremote: Counting objects:  28% (11/38)\u001b[K\rremote: Counting objects:  31% (12/38)\u001b[K\rremote: Counting objects:  34% (13/38)\u001b[K\rremote: Counting objects:  36% (14/38)\u001b[K\rremote: Counting objects:  39% (15/38)\u001b[K\rremote: Counting objects:  42% (16/38)\u001b[K\rremote: Counting objects:  44% (17/38)\u001b[K\rremote: Counting objects:  47% (18/38)\u001b[K\rremote: Counting objects:  50% (19/38)\u001b[K\rremote: Counting objects:  52% (20/38)\u001b[K\rremote: Counting objects:  55% (21/38)\u001b[K\rremote: Counting objects:  57% (22/38)\u001b[K\rremote: Counting objects:  60% (23/38)\u001b[K\rremote: Counting objects:  63% (24/38)\u001b[K\rremote: Counting objects:  65% (25/38)\u001b[K\rremote: Counting objects:  68% (26/38)\u001b[K\rremote: Counting objects:  71% (27/38)\u001b[K\rremote: Counting objects:  73% (28/38)\u001b[K\rremote: Counting objects:  76% (29/38)\u001b[K\rremote: Counting objects:  78% (30/38)\u001b[K\rremote: Counting objects:  81% (31/38)\u001b[K\rremote: Counting objects:  84% (32/38)\u001b[K\rremote: Counting objects:  86% (33/38)\u001b[K\rremote: Counting objects:  89% (34/38)\u001b[K\rremote: Counting objects:  92% (35/38)\u001b[K\rremote: Counting objects:  94% (36/38)\u001b[K\rremote: Counting objects:  97% (37/38)\u001b[K\rremote: Counting objects: 100% (38/38)\u001b[K\rremote: Counting objects: 100% (38/38), done.\u001b[K\n",
            "remote: Compressing objects:   2% (1/36)\u001b[K\rremote: Compressing objects:   5% (2/36)\u001b[K\rremote: Compressing objects:   8% (3/36)\u001b[K\rremote: Compressing objects:  11% (4/36)\u001b[K\rremote: Compressing objects:  13% (5/36)\u001b[K\rremote: Compressing objects:  16% (6/36)\u001b[K\rremote: Compressing objects:  19% (7/36)\u001b[K\rremote: Compressing objects:  22% (8/36)\u001b[K\rremote: Compressing objects:  25% (9/36)\u001b[K\rremote: Compressing objects:  27% (10/36)\u001b[K\rremote: Compressing objects:  30% (11/36)\u001b[K\rremote: Compressing objects:  33% (12/36)\u001b[K\rremote: Compressing objects:  36% (13/36)\u001b[K\rremote: Compressing objects:  38% (14/36)\u001b[K\rremote: Compressing objects:  41% (15/36)\u001b[K\rremote: Compressing objects:  44% (16/36)\u001b[K\rremote: Compressing objects:  47% (17/36)\u001b[K\rremote: Compressing objects:  50% (18/36)\u001b[K\rremote: Compressing objects:  52% (19/36)\u001b[K\rremote: Compressing objects:  55% (20/36)\u001b[K\rremote: Compressing objects:  58% (21/36)\u001b[K\rremote: Compressing objects:  61% (22/36)\u001b[K\rremote: Compressing objects:  63% (23/36)\u001b[K\rremote: Compressing objects:  66% (24/36)\u001b[K\rremote: Compressing objects:  69% (25/36)\u001b[K\rremote: Compressing objects:  72% (26/36)\u001b[K\rremote: Compressing objects:  75% (27/36)\u001b[K\rremote: Compressing objects:  77% (28/36)\u001b[K\rremote: Compressing objects:  80% (29/36)\u001b[K\rremote: Compressing objects:  83% (30/36)\u001b[K\rremote: Compressing objects:  86% (31/36)\u001b[K\rremote: Compressing objects:  88% (32/36)\u001b[K\rremote: Compressing objects:  91% (33/36)\u001b[K\rremote: Compressing objects:  94% (34/36)\u001b[K\rremote: Compressing objects:  97% (35/36)\u001b[K\rremote: Compressing objects: 100% (36/36)\u001b[K\rremote: Compressing objects: 100% (36/36), done.\u001b[K\n",
            "remote: Total 38 (delta 14), reused 0 (delta 0), pack-reused 0\u001b[K\n",
            "Unpacking objects:   2% (1/38)   \rUnpacking objects:   5% (2/38)   \rUnpacking objects:   7% (3/38)   \rUnpacking objects:  10% (4/38)   \rUnpacking objects:  13% (5/38)   \rUnpacking objects:  15% (6/38)   \rUnpacking objects:  18% (7/38)   \rUnpacking objects:  21% (8/38)   \rUnpacking objects:  23% (9/38)   \rUnpacking objects:  26% (10/38)   \rUnpacking objects:  28% (11/38)   \rUnpacking objects:  31% (12/38)   \rUnpacking objects:  34% (13/38)   \rUnpacking objects:  36% (14/38)   \rUnpacking objects:  39% (15/38)   \rUnpacking objects:  42% (16/38)   \rUnpacking objects:  44% (17/38)   \rUnpacking objects:  47% (18/38)   \rUnpacking objects:  50% (19/38)   \rUnpacking objects:  52% (20/38)   \rUnpacking objects:  55% (21/38)   \rUnpacking objects:  57% (22/38)   \rUnpacking objects:  60% (23/38)   \rUnpacking objects:  63% (24/38)   \rUnpacking objects:  65% (25/38)   \rUnpacking objects:  68% (26/38)   \rUnpacking objects:  71% (27/38)   \rUnpacking objects:  73% (28/38)   \rUnpacking objects:  76% (29/38)   \rUnpacking objects:  78% (30/38)   \rUnpacking objects:  81% (31/38)   \rUnpacking objects:  84% (32/38)   \rUnpacking objects:  86% (33/38)   \rUnpacking objects:  89% (34/38)   \rUnpacking objects:  92% (35/38)   \rUnpacking objects:  94% (36/38)   \rUnpacking objects:  97% (37/38)   \rUnpacking objects: 100% (38/38)   \rUnpacking objects: 100% (38/38), done.\n"
          ],
          "name": "stdout"
        }
      ]
    },
    {
      "cell_type": "code",
      "metadata": {
        "id": "wAv53dhNwujH",
        "colab_type": "code",
        "colab": {}
      },
      "source": [
        "from pressure_neurons import net\n",
        "from pressure_neurons import linear\n",
        "from pressure_neurons import module\n",
        "from pressure_neurons import toy"
      ],
      "execution_count": 0,
      "outputs": []
    },
    {
      "cell_type": "code",
      "metadata": {
        "id": "OdEX0MmP-i6z",
        "colab_type": "code",
        "colab": {}
      },
      "source": [
        ""
      ],
      "execution_count": 0,
      "outputs": []
    }
  ]
}